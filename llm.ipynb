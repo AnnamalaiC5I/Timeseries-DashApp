{
 "cells": [
  {
   "cell_type": "code",
   "execution_count": 1,
   "id": "8ab8f2de",
   "metadata": {},
   "outputs": [
    {
     "name": "stderr",
     "output_type": "stream",
     "text": [
      "WARNING: Ignoring invalid distribution -rotobuf (c:\\users\\annamalai\\appdata\\local\\programs\\python\\python38\\lib\\site-packages)\n",
      "WARNING: Ignoring invalid distribution -rotobuf (c:\\users\\annamalai\\appdata\\local\\programs\\python\\python38\\lib\\site-packages)\n",
      "WARNING: Ignoring invalid distribution -rotobuf (c:\\users\\annamalai\\appdata\\local\\programs\\python\\python38\\lib\\site-packages)\n",
      "    WARNING: Ignoring invalid distribution -rotobuf (c:\\users\\annamalai\\appdata\\local\\programs\\python\\python38\\lib\\site-packages)\n",
      "WARNING: Ignoring invalid distribution -rotobuf (c:\\users\\annamalai\\appdata\\local\\programs\\python\\python38\\lib\\site-packages)\n",
      "WARNING: Ignoring invalid distribution -rotobuf (c:\\users\\annamalai\\appdata\\local\\programs\\python\\python38\\lib\\site-packages)\n",
      "WARNING: Ignoring invalid distribution -rotobuf (c:\\users\\annamalai\\appdata\\local\\programs\\python\\python38\\lib\\site-packages)\n",
      "WARNING: Ignoring invalid distribution -rotobuf (c:\\users\\annamalai\\appdata\\local\\programs\\python\\python38\\lib\\site-packages)\n",
      "WARNING: You are using pip version 21.1.1; however, version 23.1.2 is available.\n",
      "You should consider upgrading via the 'c:\\users\\annamalai\\appdata\\local\\programs\\python\\python38\\python.exe -m pip install --upgrade pip' command.\n"
     ]
    }
   ],
   "source": [
    "!pip install -q jupyter-dash==0.3.0rc1 dash-bootstrap-components transformers"
   ]
  },
  {
   "cell_type": "code",
   "execution_count": 6,
   "id": "e385b343",
   "metadata": {},
   "outputs": [],
   "source": [
    "import time\n",
    "\n",
    "import dash\n",
    "from dash import Dash\n",
    "import dash_html_components as html\n",
    "import dash_core_components as dcc\n",
    "import dash_bootstrap_components as dbc\n",
    "from dash.dependencies import Input, Output, State\n",
    "#from jupyter_dash import JupyterDash\n",
    "from transformers import AutoModelWithLMHead, AutoTokenizer\n",
    "import torch"
   ]
  },
  {
   "cell_type": "code",
   "execution_count": 3,
   "id": "0916786b",
   "metadata": {},
   "outputs": [
    {
     "name": "stdout",
     "output_type": "stream",
     "text": [
      "Device: cpu\n",
      "Start loading model...\n"
     ]
    },
    {
     "data": {
      "application/vnd.jupyter.widget-view+json": {
       "model_id": "4e48f1de5c174f5b9f4cd0be6ecc6426",
       "version_major": 2,
       "version_minor": 0
      },
      "text/plain": [
       "Downloading (…)okenizer_config.json:   0%|          | 0.00/26.0 [00:00<?, ?B/s]"
      ]
     },
     "metadata": {},
     "output_type": "display_data"
    },
    {
     "name": "stderr",
     "output_type": "stream",
     "text": [
      "c:\\users\\annamalai\\appdata\\local\\programs\\python\\python38\\lib\\site-packages\\huggingface_hub\\file_download.py:133: UserWarning: `huggingface_hub` cache-system uses symlinks by default to efficiently store duplicated files but your machine does not support them in C:\\Users\\annamalai\\.cache\\huggingface\\hub. Caching files will still work but in a degraded version that might require more space on your disk. This warning can be disabled by setting the `HF_HUB_DISABLE_SYMLINKS_WARNING` environment variable. For more details, see https://huggingface.co/docs/huggingface_hub/how-to-cache#limitations.\n",
      "To support symlinks on Windows, you either need to activate Developer Mode or to run Python as an administrator. In order to see activate developer mode, see this article: https://docs.microsoft.com/en-us/windows/apps/get-started/enable-your-device-for-development\n",
      "  warnings.warn(message)\n"
     ]
    },
    {
     "data": {
      "application/vnd.jupyter.widget-view+json": {
       "model_id": "dff7c4dda07f4f498f92c688b8782ffe",
       "version_major": 2,
       "version_minor": 0
      },
      "text/plain": [
       "Downloading (…)lve/main/config.json:   0%|          | 0.00/642 [00:00<?, ?B/s]"
      ]
     },
     "metadata": {},
     "output_type": "display_data"
    },
    {
     "data": {
      "application/vnd.jupyter.widget-view+json": {
       "model_id": "27b0438033e94e4695f1eedffd86e717",
       "version_major": 2,
       "version_minor": 0
      },
      "text/plain": [
       "Downloading (…)olve/main/vocab.json:   0%|          | 0.00/1.04M [00:00<?, ?B/s]"
      ]
     },
     "metadata": {},
     "output_type": "display_data"
    },
    {
     "data": {
      "application/vnd.jupyter.widget-view+json": {
       "model_id": "fe2904bf71024d51846ef9d8a0fce38c",
       "version_major": 2,
       "version_minor": 0
      },
      "text/plain": [
       "Downloading (…)olve/main/merges.txt:   0%|          | 0.00/456k [00:00<?, ?B/s]"
      ]
     },
     "metadata": {},
     "output_type": "display_data"
    },
    {
     "name": "stderr",
     "output_type": "stream",
     "text": [
      "c:\\users\\annamalai\\appdata\\local\\programs\\python\\python38\\lib\\site-packages\\transformers\\models\\auto\\modeling_auto.py:1352: FutureWarning: The class `AutoModelWithLMHead` is deprecated and will be removed in a future version. Please use `AutoModelForCausalLM` for causal language models, `AutoModelForMaskedLM` for masked language models and `AutoModelForSeq2SeqLM` for encoder-decoder models.\n",
      "  warnings.warn(\n"
     ]
    },
    {
     "data": {
      "application/vnd.jupyter.widget-view+json": {
       "model_id": "0e605afbb5614f16adaff6fbc13167f7",
       "version_major": 2,
       "version_minor": 0
      },
      "text/plain": [
       "Downloading pytorch_model.bin:   0%|          | 0.00/1.75G [00:00<?, ?B/s]"
      ]
     },
     "metadata": {},
     "output_type": "display_data"
    },
    {
     "data": {
      "application/vnd.jupyter.widget-view+json": {
       "model_id": "ee902fb4906e45058da030f72e1b6c64",
       "version_major": 2,
       "version_minor": 0
      },
      "text/plain": [
       "Downloading (…)neration_config.json:   0%|          | 0.00/124 [00:00<?, ?B/s]"
      ]
     },
     "metadata": {},
     "output_type": "display_data"
    },
    {
     "name": "stdout",
     "output_type": "stream",
     "text": [
      "Done.\n"
     ]
    }
   ],
   "source": [
    "device = \"cuda\" if torch.cuda.is_available() else \"cpu\"\n",
    "print(f\"Device: {device}\")\n",
    "\n",
    "print(\"Start loading model...\")\n",
    "name = \"microsoft/DialoGPT-large\"\n",
    "tokenizer = AutoTokenizer.from_pretrained(name)\n",
    "model = AutoModelWithLMHead.from_pretrained(name)\n",
    "\n",
    "# Switch to cuda, eval mode, and FP16 for faster inference\n",
    "if device == \"cuda\":\n",
    "    model = model.half()\n",
    "model.to(device)\n",
    "model.eval()\n",
    "\n",
    "print(\"Done.\")"
   ]
  },
  {
   "cell_type": "code",
   "execution_count": 5,
   "id": "cd872ab8",
   "metadata": {},
   "outputs": [],
   "source": [
    "def textbox(text, box=\"other\"):\n",
    "    style = {\n",
    "        \"max-width\": \"55%\",\n",
    "        \"width\": \"max-content\",\n",
    "        \"padding\": \"10px 15px\",\n",
    "        \"border-radius\": \"25px\",\n",
    "    }\n",
    "\n",
    "    if box == \"self\":\n",
    "        style[\"margin-left\"] = \"auto\"\n",
    "        style[\"margin-right\"] = 0\n",
    "\n",
    "        color = \"primary\"\n",
    "        inverse = True\n",
    "\n",
    "    elif box == \"other\":\n",
    "        style[\"margin-left\"] = 0\n",
    "        style[\"margin-right\"] = \"auto\"\n",
    "\n",
    "        color = \"light\"\n",
    "        inverse = False\n",
    "\n",
    "    else:\n",
    "        raise ValueError(\"Incorrect option for `box`.\")\n",
    "\n",
    "    return dbc.Card(text, style=style, body=True, color=color, inverse=inverse)"
   ]
  },
  {
   "cell_type": "code",
   "execution_count": 7,
   "id": "779761d1",
   "metadata": {},
   "outputs": [
    {
     "ename": "AttributeError",
     "evalue": "InputGroupAddon was deprecated in dash-bootstrap-components version 1.0.0. You are using 1.2.1. For more details please see the migration guide: https://dash-bootstrap-components.opensource.faculty.ai/migration-guide/",
     "output_type": "error",
     "traceback": [
      "\u001b[1;31m---------------------------------------------------------------------------\u001b[0m",
      "\u001b[1;31mAttributeError\u001b[0m                            Traceback (most recent call last)",
      "Input \u001b[1;32mIn [7]\u001b[0m, in \u001b[0;36m<cell line: 12>\u001b[1;34m()\u001b[0m\n\u001b[0;32m      1\u001b[0m conversation \u001b[38;5;241m=\u001b[39m html\u001b[38;5;241m.\u001b[39mDiv(\n\u001b[0;32m      2\u001b[0m     style\u001b[38;5;241m=\u001b[39m{\n\u001b[0;32m      3\u001b[0m         \u001b[38;5;124m\"\u001b[39m\u001b[38;5;124mwidth\u001b[39m\u001b[38;5;124m\"\u001b[39m: \u001b[38;5;124m\"\u001b[39m\u001b[38;5;124m80\u001b[39m\u001b[38;5;124m%\u001b[39m\u001b[38;5;124m\"\u001b[39m,\n\u001b[1;32m   (...)\u001b[0m\n\u001b[0;32m      9\u001b[0m     \u001b[38;5;28mid\u001b[39m\u001b[38;5;241m=\u001b[39m\u001b[38;5;124m\"\u001b[39m\u001b[38;5;124mdisplay-conversation\u001b[39m\u001b[38;5;124m\"\u001b[39m,\n\u001b[0;32m     10\u001b[0m )\n\u001b[0;32m     12\u001b[0m controls \u001b[38;5;241m=\u001b[39m dbc\u001b[38;5;241m.\u001b[39mInputGroup(\n\u001b[0;32m     13\u001b[0m     style\u001b[38;5;241m=\u001b[39m{\u001b[38;5;124m\"\u001b[39m\u001b[38;5;124mwidth\u001b[39m\u001b[38;5;124m\"\u001b[39m: \u001b[38;5;124m\"\u001b[39m\u001b[38;5;124m80\u001b[39m\u001b[38;5;124m%\u001b[39m\u001b[38;5;124m\"\u001b[39m, \u001b[38;5;124m\"\u001b[39m\u001b[38;5;124mmax-width\u001b[39m\u001b[38;5;124m\"\u001b[39m: \u001b[38;5;124m\"\u001b[39m\u001b[38;5;124m800px\u001b[39m\u001b[38;5;124m\"\u001b[39m, \u001b[38;5;124m\"\u001b[39m\u001b[38;5;124mmargin\u001b[39m\u001b[38;5;124m\"\u001b[39m: \u001b[38;5;124m\"\u001b[39m\u001b[38;5;124mauto\u001b[39m\u001b[38;5;124m\"\u001b[39m},\n\u001b[0;32m     14\u001b[0m     children\u001b[38;5;241m=\u001b[39m[\n\u001b[0;32m     15\u001b[0m         dbc\u001b[38;5;241m.\u001b[39mInput(\u001b[38;5;28mid\u001b[39m\u001b[38;5;241m=\u001b[39m\u001b[38;5;124m\"\u001b[39m\u001b[38;5;124muser-input\u001b[39m\u001b[38;5;124m\"\u001b[39m, placeholder\u001b[38;5;241m=\u001b[39m\u001b[38;5;124m\"\u001b[39m\u001b[38;5;124mWrite to the chatbot...\u001b[39m\u001b[38;5;124m\"\u001b[39m, \u001b[38;5;28mtype\u001b[39m\u001b[38;5;241m=\u001b[39m\u001b[38;5;124m\"\u001b[39m\u001b[38;5;124mtext\u001b[39m\u001b[38;5;124m\"\u001b[39m),\n\u001b[1;32m---> 16\u001b[0m         \u001b[43mdbc\u001b[49m\u001b[38;5;241;43m.\u001b[39;49m\u001b[43mInputGroupAddon\u001b[49m(dbc\u001b[38;5;241m.\u001b[39mButton(\u001b[38;5;124m\"\u001b[39m\u001b[38;5;124mSubmit\u001b[39m\u001b[38;5;124m\"\u001b[39m, \u001b[38;5;28mid\u001b[39m\u001b[38;5;241m=\u001b[39m\u001b[38;5;124m\"\u001b[39m\u001b[38;5;124msubmit\u001b[39m\u001b[38;5;124m\"\u001b[39m), addon_type\u001b[38;5;241m=\u001b[39m\u001b[38;5;124m\"\u001b[39m\u001b[38;5;124mappend\u001b[39m\u001b[38;5;124m\"\u001b[39m,),\n\u001b[0;32m     17\u001b[0m     ],\n\u001b[0;32m     18\u001b[0m )\n\u001b[0;32m     21\u001b[0m \u001b[38;5;66;03m# Define app\u001b[39;00m\n\u001b[0;32m     22\u001b[0m app \u001b[38;5;241m=\u001b[39m Dash(\u001b[38;5;18m__name__\u001b[39m, external_stylesheets\u001b[38;5;241m=\u001b[39m[dbc\u001b[38;5;241m.\u001b[39mthemes\u001b[38;5;241m.\u001b[39mBOOTSTRAP])\n",
      "File \u001b[1;32mc:\\users\\annamalai\\appdata\\local\\programs\\python\\python38\\lib\\site-packages\\dash_bootstrap_components\\__init__.py:51\u001b[0m, in \u001b[0;36m_V1DeprecationWarningWrapper.__getattr__\u001b[1;34m(self, name)\u001b[0m\n\u001b[0;32m     49\u001b[0m \u001b[38;5;28;01mdef\u001b[39;00m \u001b[38;5;21m__getattr__\u001b[39m(\u001b[38;5;28mself\u001b[39m, name):\n\u001b[0;32m     50\u001b[0m     \u001b[38;5;28;01mif\u001b[39;00m name \u001b[38;5;129;01min\u001b[39;00m \u001b[38;5;28mself\u001b[39m\u001b[38;5;241m.\u001b[39mdeprecated:\n\u001b[1;32m---> 51\u001b[0m         \u001b[38;5;28;01mraise\u001b[39;00m \u001b[38;5;167;01mAttributeError\u001b[39;00m(\n\u001b[0;32m     52\u001b[0m             \u001b[38;5;124mf\u001b[39m\u001b[38;5;124m\"\u001b[39m\u001b[38;5;132;01m{\u001b[39;00mname\u001b[38;5;132;01m}\u001b[39;00m\u001b[38;5;124m was deprecated in dash-bootstrap-components version \u001b[39m\u001b[38;5;124m\"\u001b[39m\n\u001b[0;32m     53\u001b[0m             \u001b[38;5;124mf\u001b[39m\u001b[38;5;124m\"\u001b[39m\u001b[38;5;124m1.0.0. You are using \u001b[39m\u001b[38;5;132;01m{\u001b[39;00m__version__\u001b[38;5;132;01m}\u001b[39;00m\u001b[38;5;124m. For more details please \u001b[39m\u001b[38;5;124m\"\u001b[39m\n\u001b[0;32m     54\u001b[0m             \u001b[38;5;124m\"\u001b[39m\u001b[38;5;124msee the migration guide: \u001b[39m\u001b[38;5;124m\"\u001b[39m\n\u001b[0;32m     55\u001b[0m             \u001b[38;5;124m\"\u001b[39m\u001b[38;5;124mhttps://dash-bootstrap-components.opensource.faculty.ai/\u001b[39m\u001b[38;5;124m\"\u001b[39m\n\u001b[0;32m     56\u001b[0m             \u001b[38;5;124m\"\u001b[39m\u001b[38;5;124mmigration-guide/\u001b[39m\u001b[38;5;124m\"\u001b[39m\n\u001b[0;32m     57\u001b[0m         )\n\u001b[0;32m     58\u001b[0m     \u001b[38;5;28;01mreturn\u001b[39;00m \u001b[38;5;28mgetattr\u001b[39m(\u001b[38;5;28mself\u001b[39m\u001b[38;5;241m.\u001b[39mwrapped, name)\n",
      "\u001b[1;31mAttributeError\u001b[0m: InputGroupAddon was deprecated in dash-bootstrap-components version 1.0.0. You are using 1.2.1. For more details please see the migration guide: https://dash-bootstrap-components.opensource.faculty.ai/migration-guide/"
     ]
    }
   ],
   "source": [
    "conversation = html.Div(\n",
    "    style={\n",
    "        \"width\": \"80%\",\n",
    "        \"max-width\": \"800px\",\n",
    "        \"height\": \"70vh\",\n",
    "        \"margin\": \"auto\",\n",
    "        \"overflow-y\": \"auto\",\n",
    "    },\n",
    "    id=\"display-conversation\",\n",
    ")\n",
    "\n",
    "controls = dbc.InputGroup(\n",
    "    style={\"width\": \"80%\", \"max-width\": \"800px\", \"margin\": \"auto\"},\n",
    "    children=[\n",
    "        dbc.Input(id=\"user-input\", placeholder=\"Write to the chatbot...\", type=\"text\"),\n",
    "        dbc.InputGroupAddon(dbc.Button(\"Submit\", id=\"submit\"), addon_type=\"append\",),\n",
    "    ],\n",
    ")\n",
    "\n",
    "\n",
    "# Define app\n",
    "app = Dash(__name__, external_stylesheets=[dbc.themes.BOOTSTRAP])\n",
    "server = app.server\n",
    "\n",
    "\n",
    "# Define Layout\n",
    "app.layout = dbc.Container(\n",
    "    fluid=True,\n",
    "    children=[\n",
    "        html.H1(\"Dash Chatbot (with DialoGPT)\"),\n",
    "        html.Hr(),\n",
    "        dcc.Store(id=\"store-conversation\", data=\"\"),\n",
    "        conversation,\n",
    "        controls,\n",
    "    ],\n",
    ")"
   ]
  },
  {
   "cell_type": "code",
   "execution_count": null,
   "id": "78f39103",
   "metadata": {},
   "outputs": [],
   "source": []
  }
 ],
 "metadata": {
  "kernelspec": {
   "display_name": "Python 3 (ipykernel)",
   "language": "python",
   "name": "python3"
  },
  "language_info": {
   "codemirror_mode": {
    "name": "ipython",
    "version": 3
   },
   "file_extension": ".py",
   "mimetype": "text/x-python",
   "name": "python",
   "nbconvert_exporter": "python",
   "pygments_lexer": "ipython3",
   "version": "3.8.10"
  }
 },
 "nbformat": 4,
 "nbformat_minor": 5
}
